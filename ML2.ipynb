{
 "cells": [
  {
   "cell_type": "code",
   "execution_count": 2,
   "metadata": {},
   "outputs": [],
   "source": [
    "import pandas as pd\n",
    "import numpy as np\n",
    "from sklearn.ensemble import RandomForestClassifier,RandomForestRegressor\n",
    "from sklearn.neighbors import KNeighborsClassifier,KNeighborsRegressor\n",
    "from sklearn.model_selection import train_test_split\n",
    "from sklearn.metrics import r2_score,accuracy_score"
   ]
  },
  {
   "cell_type": "code",
   "execution_count": 3,
   "metadata": {},
   "outputs": [
    {
     "data": {
      "text/html": [
       "<div>\n",
       "<style scoped>\n",
       "    .dataframe tbody tr th:only-of-type {\n",
       "        vertical-align: middle;\n",
       "    }\n",
       "\n",
       "    .dataframe tbody tr th {\n",
       "        vertical-align: top;\n",
       "    }\n",
       "\n",
       "    .dataframe thead th {\n",
       "        text-align: right;\n",
       "    }\n",
       "</style>\n",
       "<table border=\"1\" class=\"dataframe\">\n",
       "  <thead>\n",
       "    <tr style=\"text-align: right;\">\n",
       "      <th></th>\n",
       "      <th>Sequence</th>\n",
       "      <th>Subpopulation</th>\n",
       "      <th>PlantHeight</th>\n",
       "      <th>Yield</th>\n",
       "    </tr>\n",
       "  </thead>\n",
       "  <tbody>\n",
       "    <tr>\n",
       "      <th>0</th>\n",
       "      <td>124344244</td>\n",
       "      <td>Intermediate</td>\n",
       "      <td>125.200000</td>\n",
       "      <td>35.185000</td>\n",
       "    </tr>\n",
       "    <tr>\n",
       "      <th>1</th>\n",
       "      <td>124344244</td>\n",
       "      <td>Intermediate</td>\n",
       "      <td>125.200000</td>\n",
       "      <td>35.185000</td>\n",
       "    </tr>\n",
       "    <tr>\n",
       "      <th>2</th>\n",
       "      <td>124341444</td>\n",
       "      <td>Temperate Japonica</td>\n",
       "      <td>91.985714</td>\n",
       "      <td>24.048571</td>\n",
       "    </tr>\n",
       "    <tr>\n",
       "      <th>3</th>\n",
       "      <td>124341444</td>\n",
       "      <td>Temperate Japonica</td>\n",
       "      <td>91.985714</td>\n",
       "      <td>24.048571</td>\n",
       "    </tr>\n",
       "    <tr>\n",
       "      <th>4</th>\n",
       "      <td>124341444</td>\n",
       "      <td>Temperate Japonica</td>\n",
       "      <td>91.985714</td>\n",
       "      <td>24.048571</td>\n",
       "    </tr>\n",
       "    <tr>\n",
       "      <th>...</th>\n",
       "      <td>...</td>\n",
       "      <td>...</td>\n",
       "      <td>...</td>\n",
       "      <td>...</td>\n",
       "    </tr>\n",
       "    <tr>\n",
       "      <th>524</th>\n",
       "      <td>324341242</td>\n",
       "      <td>Temperate Japonica</td>\n",
       "      <td>147.225333</td>\n",
       "      <td>24.400667</td>\n",
       "    </tr>\n",
       "    <tr>\n",
       "      <th>525</th>\n",
       "      <td>324341242</td>\n",
       "      <td>Temperate Japonica</td>\n",
       "      <td>147.225333</td>\n",
       "      <td>24.400667</td>\n",
       "    </tr>\n",
       "    <tr>\n",
       "      <th>526</th>\n",
       "      <td>324341242</td>\n",
       "      <td>Temperate Japonica</td>\n",
       "      <td>147.225333</td>\n",
       "      <td>24.400667</td>\n",
       "    </tr>\n",
       "    <tr>\n",
       "      <th>527</th>\n",
       "      <td>324341242</td>\n",
       "      <td>Temperate Japonica</td>\n",
       "      <td>147.225333</td>\n",
       "      <td>24.400667</td>\n",
       "    </tr>\n",
       "    <tr>\n",
       "      <th>528</th>\n",
       "      <td>324341242</td>\n",
       "      <td>Temperate Japonica</td>\n",
       "      <td>147.225333</td>\n",
       "      <td>24.400667</td>\n",
       "    </tr>\n",
       "  </tbody>\n",
       "</table>\n",
       "<p>529 rows × 4 columns</p>\n",
       "</div>"
      ],
      "text/plain": [
       "      Sequence       Subpopulation  PlantHeight      Yield\n",
       "0    124344244        Intermediate   125.200000  35.185000\n",
       "1    124344244        Intermediate   125.200000  35.185000\n",
       "2    124341444  Temperate Japonica    91.985714  24.048571\n",
       "3    124341444  Temperate Japonica    91.985714  24.048571\n",
       "4    124341444  Temperate Japonica    91.985714  24.048571\n",
       "..         ...                 ...          ...        ...\n",
       "524  324341242  Temperate Japonica   147.225333  24.400667\n",
       "525  324341242  Temperate Japonica   147.225333  24.400667\n",
       "526  324341242  Temperate Japonica   147.225333  24.400667\n",
       "527  324341242  Temperate Japonica   147.225333  24.400667\n",
       "528  324341242  Temperate Japonica   147.225333  24.400667\n",
       "\n",
       "[529 rows x 4 columns]"
      ]
     },
     "execution_count": 3,
     "metadata": {},
     "output_type": "execute_result"
    }
   ],
   "source": [
    "df=pd.read_csv('encoded.csv')\n",
    "del df['Unnamed: 0']\n",
    "df"
   ]
  },
  {
   "cell_type": "code",
   "execution_count": 4,
   "metadata": {},
   "outputs": [
    {
     "data": {
      "text/plain": [
       "0.9150943396226415"
      ]
     },
     "execution_count": 4,
     "metadata": {},
     "output_type": "execute_result"
    }
   ],
   "source": [
    "x1=df['Sequence'].values\n",
    "y1=df['Subpopulation'].values\n",
    "\n",
    "x_train1, x_test1, y_train1, y_test1 = train_test_split(x1, y1, test_size=0.2, random_state=42)\n",
    "x_train1 = x_train1.reshape(-1, 1)\n",
    "x_test1 = x_test1.reshape(-1, 1)\n",
    "\n",
    "subpoprf = KNeighborsClassifier() # Corrected class name\n",
    "\n",
    "subpoprf.fit(x_train1, y_train1)\n",
    "y_pred1 = subpoprf.predict(x_test1)\n",
    "subpopac=accuracy_score(y_test1,y_pred1)\n",
    "subpopac"
   ]
  },
  {
   "cell_type": "code",
   "execution_count": 5,
   "metadata": {},
   "outputs": [
    {
     "data": {
      "text/plain": [
       "0.8980880493965613"
      ]
     },
     "execution_count": 5,
     "metadata": {},
     "output_type": "execute_result"
    }
   ],
   "source": [
    "x2 = df['Sequence'].values\n",
    "y2 = df['PlantHeight'].values\n",
    "\n",
    "x_train2, x_test2, y_train2, y_test2 = train_test_split(x2, y2, test_size=0.25)\n",
    "x_test2 = x_test2.reshape(-1, 1)\n",
    "x_train2 = x_train2.reshape(-1, 1)\n",
    "\n",
    "plhrf = KNeighborsRegressor()\n",
    "\n",
    "plhrf.fit(x_train2, y_train2)\n",
    "y_pred2 = plhrf.predict(x_test2)\n",
    "heightacc=r2_score(y_test2,y_pred2)\n",
    "heightacc"
   ]
  },
  {
   "cell_type": "code",
   "execution_count": 6,
   "metadata": {},
   "outputs": [
    {
     "data": {
      "text/plain": [
       "0.9141203468997274"
      ]
     },
     "execution_count": 6,
     "metadata": {},
     "output_type": "execute_result"
    }
   ],
   "source": [
    "x3 = df['Sequence'].values\n",
    "y3 = df['Yield'].values\n",
    "\n",
    "x_train3, x_test3, y_train3, y_test3 = train_test_split(x2, y2, test_size=0.25)\n",
    "x_test3 = x_test3.reshape(-1, 1)\n",
    "x_train3 = x_train3.reshape(-1, 1)\n",
    "\n",
    "yld = RandomForestRegressor()\n",
    "\n",
    "yld.fit(x_train3, y_train3)\n",
    "y_pred3 = plhrf.predict(x_test3)\n",
    "ylac=r2_score(y_test3,y_pred3)\n",
    "ylac"
   ]
  },
  {
   "cell_type": "code",
   "execution_count": 7,
   "metadata": {},
   "outputs": [
    {
     "name": "stdout",
     "output_type": "stream",
     "text": [
      "Entered sequence:  ATCGATCTA\n",
      "\n",
      "\n",
      "Predicted height:  97.10495238095238\n",
      "Accuracy for the height:  89.80880493965613 %\n",
      "\n",
      "\n",
      "Predicted subpopulation:  Indica I\n",
      "Accuracy of the subpopulation : 91.50943396226415 %\n",
      "\n",
      "\n",
      "Predicted Yield: 100.58481904761894\n",
      "Accuracy of Yield:  91.41203468997274 %\n"
     ]
    }
   ],
   "source": [
    "a=input(\"Enter a 9 digit sequence: \")\n",
    "leg = {'A': '1', 'C': '3', 'G': '4', 'T': '4'}\n",
    "seqq = \"\"\n",
    "for j in a:seqq += leg[j]\n",
    "score = np.array([int(seqq)])  # Convert the sequence to an integer array\n",
    "score = score.reshape(-1, 1)\n",
    "prh = plhrf.predict(score)\n",
    "sbpp = subpoprf.predict(score)\n",
    "yeils=yld.predict(score)\n",
    "\n",
    "print(\"Entered sequence: \", a)\n",
    "print(\"\\n\")\n",
    "print(\"Predicted height: \", prh[0])\n",
    "print(\"Accuracy for the height: \",heightacc*100,\"%\")\n",
    "print(\"\\n\")\n",
    "print(\"Predicted subpopulation: \", sbpp[0])\n",
    "print(\"Accuracy of the subpopulation :\",subpopac*100,\"%\")\n",
    "print(\"\\n\")\n",
    "print(\"Predicted Yield:\",yeils[0])\n",
    "print(\"Accuracy of Yield: \",ylac*100,\"%\")"
   ]
  },
  {
   "cell_type": "code",
   "execution_count": 19,
   "metadata": {},
   "outputs": [],
   "source": [
    "import pickle \n",
    "with open('datasubpopulation.pkl','wb') as f:pickle.dump(subpoprf,f)\n",
    "\n",
    "with open('dataheight.pkl','wb') as f1:pickle.dump(plhrf,f1)\n",
    "\n",
    "with open('datayield.pkl','wb') as f2:pickle.dump(yld,f2)"
   ]
  }
 ],
 "metadata": {
  "kernelspec": {
   "display_name": "Python 3",
   "language": "python",
   "name": "python3"
  },
  "language_info": {
   "codemirror_mode": {
    "name": "ipython",
    "version": 3
   },
   "file_extension": ".py",
   "mimetype": "text/x-python",
   "name": "python",
   "nbconvert_exporter": "python",
   "pygments_lexer": "ipython3",
   "version": "3.10.0"
  },
  "orig_nbformat": 4
 },
 "nbformat": 4,
 "nbformat_minor": 2
}
